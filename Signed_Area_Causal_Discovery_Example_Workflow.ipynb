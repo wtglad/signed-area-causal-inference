{
  "nbformat": 4,
  "nbformat_minor": 0,
  "metadata": {
    "colab": {
      "name": "Signed Area Causal Discovery - Example Workflow.ipynb",
      "provenance": [],
      "authorship_tag": "ABX9TyO3eGWZ5EI0jRiMDSAMryZD",
      "include_colab_link": true
    },
    "kernelspec": {
      "name": "python3",
      "display_name": "Python 3"
    },
    "language_info": {
      "name": "python"
    }
  },
  "cells": [
    {
      "cell_type": "markdown",
      "metadata": {
        "id": "view-in-github",
        "colab_type": "text"
      },
      "source": [
        "<a href=\"https://colab.research.google.com/github/wtglad/signed-area-causal-inference/blob/main/Signed_Area_Causal_Discovery_Example_Workflow.ipynb\" target=\"_parent\"><img src=\"https://colab.research.google.com/assets/colab-badge.svg\" alt=\"Open In Colab\"/></a>"
      ]
    },
    {
      "cell_type": "code",
      "metadata": {
        "colab": {
          "base_uri": "https://localhost:8080/"
        },
        "id": "zd6VpehtO3p1",
        "outputId": "ffd44fff-22d4-448b-a777-6a02f49d2a5e"
      },
      "source": [
        "!pip install signatory==1.2.4.1.7.1 --no-cache-dir --force-reinstall"
      ],
      "execution_count": 1,
      "outputs": [
        {
          "output_type": "stream",
          "text": [
            "Collecting signatory==1.2.4.1.7.1\n",
            "  Downloading signatory-1.2.4.1.7.1.tar.gz (61 kB)\n",
            "\u001b[?25l\r\u001b[K     |█████▍                          | 10 kB 19.4 MB/s eta 0:00:01\r\u001b[K     |██████████▊                     | 20 kB 25.7 MB/s eta 0:00:01\r\u001b[K     |████████████████                | 30 kB 14.9 MB/s eta 0:00:01\r\u001b[K     |█████████████████████▌          | 40 kB 10.8 MB/s eta 0:00:01\r\u001b[K     |██████████████████████████▉     | 51 kB 10.0 MB/s eta 0:00:01\r\u001b[K     |████████████████████████████████| 61 kB 9.4 MB/s \n",
            "\u001b[?25hBuilding wheels for collected packages: signatory\n",
            "  Building wheel for signatory (setup.py) ... \u001b[?25l\u001b[?25hdone\n",
            "  Created wheel for signatory: filename=signatory-1.2.4.1.7.1-cp37-cp37m-linux_x86_64.whl size=7533684 sha256=e407fe557d681c22e7e8a7bda481b4d3bbcc4972ccaddea3a8badd7d778f9a88\n",
            "  Stored in directory: /tmp/pip-ephem-wheel-cache-1_7lnp8h/wheels/fb/2d/23/eebc83e1c8668c2193faf4e9eb66a34c8357b9ab9cfc49775d\n",
            "Successfully built signatory\n",
            "Installing collected packages: signatory\n",
            "Successfully installed signatory-1.2.4.1.7.1\n"
          ],
          "name": "stdout"
        }
      ]
    },
    {
      "cell_type": "code",
      "metadata": {
        "id": "7lAKPRRsO9Kc"
      },
      "source": [
        "import pandas as pd\n",
        "import numpy as np\n",
        "import random\n",
        "import matplotlib.pyplot as plt\n",
        "import seaborn as sns\n",
        "%matplotlib inline\n",
        "import signatory\n",
        "from itertools import product\n",
        "import torch\n",
        "from sklearn.preprocessing import MinMaxScaler\n",
        "import scipy.stats\n",
        "from progressbar import ProgressBar"
      ],
      "execution_count": 2,
      "outputs": []
    },
    {
      "cell_type": "markdown",
      "metadata": {
        "id": "rRA1GyyDPSBV"
      },
      "source": [
        "# Helper functions"
      ]
    },
    {
      "cell_type": "code",
      "metadata": {
        "id": "3ZOXKt4HPVMY"
      },
      "source": [
        "def preprocess_df(df, features):\n",
        "\n",
        "  # Scale features by setting min/max difference to 1 and centering to zero mean\n",
        "\n",
        "  scaler = MinMaxScaler()\n",
        "  df[features] = scaler.fit_transform(df[features])\n",
        "  \n",
        "  for i in features:\n",
        "    df[i] = df[i] - df[i].mean()\n",
        "\n",
        "  df = df.dropna()\n",
        "  df = df.reset_index(drop=True)\n",
        "  df['t'] = df.index\n",
        "  \n",
        "  return df\n"
      ],
      "execution_count": 3,
      "outputs": []
    },
    {
      "cell_type": "code",
      "metadata": {
        "id": "i0MoiugdPVKE"
      },
      "source": [
        "def conf_seq(t, alpha, mu, sigma, rho=1):\n",
        "  \n",
        "  pm = np.array([+1, -1])\n",
        "  \n",
        "  conf_seq_ub, conf_seq_lb = mu + ((pm * sigma) * np.sqrt(((2 * (t * (rho ** 2) + 1))/((t ** 2) * (rho ** 2))) *\n",
        "                                                          np.log((np.sqrt(t * (rho ** 2) + 1))/(alpha / 2))))\n",
        "  \n",
        "  return conf_seq_ub, conf_seq_lb"
      ],
      "execution_count": 4,
      "outputs": []
    },
    {
      "cell_type": "code",
      "metadata": {
        "id": "bMoZhY0PPVH1"
      },
      "source": [
        "def check_in_bounds(signed_area_value, upper_bound, lower_bound):\n",
        "  if signed_area_value > upper_bound:\n",
        "    return 1\n",
        "  elif signed_area_value < lower_bound:\n",
        "    return -1\n",
        "  else:\n",
        "    return 0"
      ],
      "execution_count": 5,
      "outputs": []
    },
    {
      "cell_type": "code",
      "metadata": {
        "id": "_XNMq6ljPVFa"
      },
      "source": [
        "\n",
        "def shuffled_signed_area_test(df, path_length, features, n_shuffles, plot_figures=False):\n",
        "  \n",
        "  # Create list of feature pairs\n",
        "  pairwise_signature_terms = []\n",
        "  sig_features = features.copy()\n",
        "\n",
        "  for prod in product(features, features):\n",
        "    sig_features.append(prod)\n",
        "    if prod[0] != prod[1]:\n",
        "      pairwise_signature_terms.append(prod)\n",
        "\n",
        "  # Compute depth 1 and 2 path signatures and signed areas for original time series \n",
        "  data = []\n",
        "\n",
        "  for i in df.index[path_length:]:\n",
        "      path_subset = df.iloc[i-path_length:i]\n",
        "      data.append(path_subset[features].to_numpy())\n",
        "\n",
        "  depth = 2\n",
        "  path = torch.Tensor(data)\n",
        "\n",
        "  signature = signatory.signature(path, depth)\n",
        "  sig_df = pd.DataFrame(signature.numpy())\n",
        "  sig_df.columns = ['S' + str(i) for i in sig_features]\n",
        "\n",
        "\n",
        "  for perm in pairwise_signature_terms:\n",
        "    sig_df['A(' + perm[0] + ', ' + perm[1] + ')'] = 0.5 * (sig_df[\"S('\" + perm[0] +\"', '\" + perm[1] + \"')\"] - sig_df[\"S('\" + perm[1] + \"', '\" + perm[0] + \"')\"])\n",
        "\n",
        "  sig_df = sig_df.merge(df.iloc[path_length:].reset_index(drop=True), left_index=True, right_index=True)\n",
        "\n",
        "  # Compute signed area for n_shuffles \n",
        "  shuffled_signatures = pd.DataFrame()\n",
        "  \n",
        "  pbar = ProgressBar()\n",
        "\n",
        "  for shuffle in pbar(range(n_shuffles)):\n",
        "    df_shuffled = pd.DataFrame()\n",
        "    for feature in features:\n",
        "      df_shuffled[feature] = df[feature].sample(frac=1).reset_index(drop=True)\n",
        "    \n",
        "    shuffled_data = []\n",
        "\n",
        "    for i in df_shuffled.index[path_length:]:\n",
        "        path_subset = df_shuffled.iloc[i-path_length:i]\n",
        "        shuffled_data.append(path_subset[features].to_numpy())\n",
        "\n",
        "    path = torch.Tensor(shuffled_data)\n",
        "    signature = signatory.signature(path, depth)\n",
        "    shuffled_sig_df = pd.DataFrame(signature.numpy(), columns =  ['S' + str(i) for i in sig_features])\n",
        "    shuffled_sig_df['shuffle_index'] = shuffle\n",
        "    shuffled_sig_df['t'] = df.iloc[path_length:]['t'].reset_index(drop=True)\n",
        "    \n",
        "\n",
        "    for perm in pairwise_signature_terms:\n",
        "        shuffled_sig_df['A(' + perm[0] + ', ' + perm[1] + ')'] = 0.5 * (shuffled_sig_df[\"S('\" + perm[0] + \"', '\" + perm[1] + \"')\"] - shuffled_sig_df[\"S('\" + perm[1] + \"', '\" + perm[0] + \"')\"])\n",
        "\n",
        "    shuffled_signatures = shuffled_signatures.append(shuffled_sig_df, ignore_index=True)\n",
        "\n",
        "  area_columns = [i for i in sig_df.columns.tolist() if 'A(' in i]\n",
        "  \n",
        "  # Compute confidence sequences for each pairwise term based on aggregated shuffles\n",
        "  agg_shuffles = pd.DataFrame()\n",
        "\n",
        "  for area_col in area_columns: \n",
        "    agg_shuffles[area_col] = shuffled_signatures.groupby('t').agg({area_col:'mean'})[area_col]\n",
        "  \n",
        "    # Compute cumulative mean and standard deviation and use to create confidence sequence lower and upper bounds\n",
        "    cumulative_ub = []\n",
        "    cumulative_lb = []\n",
        "\n",
        "    for idx in agg_shuffles.index:\n",
        "      ub, lb = conf_seq(idx, alpha=0.05, mu=agg_shuffles.iloc[:idx][area_col].mean(), sigma=shuffled_sig_df[shuffled_sig_df['t'] <= idx][area_col].std())\n",
        "  \n",
        "      cumulative_lb.append(lb)\n",
        "      cumulative_ub.append(ub)\n",
        "\n",
        "    agg_shuffles[area_col + '_seq_lb'] = cumulative_lb\n",
        "    agg_shuffles[area_col + '_seq_ub'] = cumulative_ub\n",
        "\n",
        "  agg_shuffles = agg_shuffles.reset_index(drop=True)\n",
        "  sig_df = sig_df.merge(agg_shuffles, suffixes=('', '_shuffled'), left_index=True, right_index=True).dropna(how='any')\n",
        "\n",
        "  # Compute shuffled signed area deviation at each time point and compute sum for entire series /len(series)\n",
        "  ssad_summary = []\n",
        "\n",
        "  for area_col in area_columns: \n",
        "    sig_df[area_col + '_SSADt'] = sig_df.apply(lambda x: check_in_bounds(x[area_col], x[area_col + '_seq_ub'], x[area_col + '_seq_lb']), axis=1)\n",
        "    ssad_summary.append([area_col, sig_df[area_col + '_SSADt'].sum() / len(sig_df)])\n",
        "\n",
        "  ssad = pd.DataFrame(ssad_summary, columns = ['feature_pair', 'SSAD'])  \n",
        "\n",
        "  if plot_figures:\n",
        "    for i in area_columns: \n",
        "\n",
        "      plt.figure(figsize=(15,3.5))\n",
        "      sns.lineplot(x=agg_shuffles.index, y=agg_shuffles[i], label='Shuffled Signed Area $\\mu$')\n",
        "      sns.lineplot(x=sig_df['t'], y=sig_df[i], label='Original Signed Area')\n",
        "      plt.fill_between(agg_shuffles.index, agg_shuffles[i + '_seq_lb'], agg_shuffles[i + '_seq_ub'], color = 'k', alpha=0.1)\n",
        "      plt.legend(loc='lower right')\n",
        "      plt.title(i)\n",
        "      plt.savefig(i + '.png')\n",
        "      plt.show()\n",
        "\n",
        "  return ssad, sig_df, agg_shuffles\n",
        "\n"
      ],
      "execution_count": 6,
      "outputs": []
    },
    {
      "cell_type": "markdown",
      "metadata": {
        "id": "DbnVCE9APDF7"
      },
      "source": [
        "# 4 species system"
      ]
    },
    {
      "cell_type": "code",
      "metadata": {
        "id": "T3UxMM1HO_FX"
      },
      "source": [
        "# Data generation process \n",
        "\n",
        "y1 = [0.4]\n",
        "y2 = [0.4]\n",
        "y3 = [0.4]\n",
        "y4 = [0.4]\n",
        "\n",
        "\n",
        "for step in range(999):\n",
        "\n",
        "  y1_next = y1[-1] * (3.9 - (3.9 * y1[-1]))\n",
        "  y2_next = y2[-1] * (3.6 - (0.4 * y1[-1]) - (3.6 * y2[-1]))\n",
        "  y3_next = y3[-1] * (3.6 - (0.4 * y2[-1]) - (3.6 * y3[-1]))\n",
        "  y4_next = y4[-1] * (3.8 - (0.35 * y3[-1]) - (3.8 * y4[-1]))\n",
        "\n",
        "  y1.append(y1_next)\n",
        "  y2.append(y2_next)\n",
        "  y3.append(y3_next)\n",
        "  y4.append(y4_next)"
      ],
      "execution_count": 7,
      "outputs": []
    },
    {
      "cell_type": "code",
      "metadata": {
        "id": "9I8msdlHPF0n"
      },
      "source": [
        "df = pd.DataFrame(zip(y1, y2, y3, y4), columns = ['v', 'x', 'y', 'z'])\n",
        "df['w'] = np.random.randn(len(df))\n"
      ],
      "execution_count": 8,
      "outputs": []
    },
    {
      "cell_type": "code",
      "metadata": {
        "id": "U2SCg_u5PHf2"
      },
      "source": [
        "# Save output and reload for subsequent iterations if consistency of white noise desired\n",
        "#df.to_csv('raw_4species.csv', index=False)\n",
        "#df = pd.read_csv('raw_4species.csv')"
      ],
      "execution_count": null,
      "outputs": []
    },
    {
      "cell_type": "code",
      "metadata": {
        "colab": {
          "base_uri": "https://localhost:8080/",
          "height": 424
        },
        "id": "xZjAdlsVQFo-",
        "outputId": "20c9f731-22a0-4f0a-8b46-f07ba7a5930e"
      },
      "source": [
        "df"
      ],
      "execution_count": 12,
      "outputs": [
        {
          "output_type": "execute_result",
          "data": {
            "text/html": [
              "<div>\n",
              "<style scoped>\n",
              "    .dataframe tbody tr th:only-of-type {\n",
              "        vertical-align: middle;\n",
              "    }\n",
              "\n",
              "    .dataframe tbody tr th {\n",
              "        vertical-align: top;\n",
              "    }\n",
              "\n",
              "    .dataframe thead th {\n",
              "        text-align: right;\n",
              "    }\n",
              "</style>\n",
              "<table border=\"1\" class=\"dataframe\">\n",
              "  <thead>\n",
              "    <tr style=\"text-align: right;\">\n",
              "      <th></th>\n",
              "      <th>v</th>\n",
              "      <th>x</th>\n",
              "      <th>y</th>\n",
              "      <th>z</th>\n",
              "      <th>w</th>\n",
              "      <th>t</th>\n",
              "    </tr>\n",
              "  </thead>\n",
              "  <tbody>\n",
              "    <tr>\n",
              "      <th>0</th>\n",
              "      <td>-0.217397</td>\n",
              "      <td>-0.315381</td>\n",
              "      <td>-0.349981</td>\n",
              "      <td>-0.278588</td>\n",
              "      <td>-0.213351</td>\n",
              "      <td>0</td>\n",
              "    </tr>\n",
              "    <tr>\n",
              "      <th>1</th>\n",
              "      <td>0.391739</td>\n",
              "      <td>0.279869</td>\n",
              "      <td>0.301570</td>\n",
              "      <td>0.311995</td>\n",
              "      <td>0.135050</td>\n",
              "      <td>1</td>\n",
              "    </tr>\n",
              "    <tr>\n",
              "      <th>2</th>\n",
              "      <td>-0.406473</td>\n",
              "      <td>-0.499194</td>\n",
              "      <td>-0.480291</td>\n",
              "      <td>-0.500416</td>\n",
              "      <td>0.057622</td>\n",
              "      <td>2</td>\n",
              "    </tr>\n",
              "    <tr>\n",
              "      <th>3</th>\n",
              "      <td>0.121576</td>\n",
              "      <td>0.122578</td>\n",
              "      <td>0.216820</td>\n",
              "      <td>0.038380</td>\n",
              "      <td>0.028551</td>\n",
              "      <td>3</td>\n",
              "    </tr>\n",
              "    <tr>\n",
              "      <th>4</th>\n",
              "      <td>0.261821</td>\n",
              "      <td>-0.062158</td>\n",
              "      <td>-0.234476</td>\n",
              "      <td>0.112037</td>\n",
              "      <td>-0.247819</td>\n",
              "      <td>4</td>\n",
              "    </tr>\n",
              "    <tr>\n",
              "      <th>...</th>\n",
              "      <td>...</td>\n",
              "      <td>...</td>\n",
              "      <td>...</td>\n",
              "      <td>...</td>\n",
              "      <td>...</td>\n",
              "      <td>...</td>\n",
              "    </tr>\n",
              "    <tr>\n",
              "      <th>995</th>\n",
              "      <td>-0.290144</td>\n",
              "      <td>-0.592212</td>\n",
              "      <td>-0.529248</td>\n",
              "      <td>-0.062725</td>\n",
              "      <td>-0.218547</td>\n",
              "      <td>995</td>\n",
              "    </tr>\n",
              "    <tr>\n",
              "      <th>996</th>\n",
              "      <td>0.316836</td>\n",
              "      <td>-0.052395</td>\n",
              "      <td>0.165297</td>\n",
              "      <td>0.337382</td>\n",
              "      <td>0.125711</td>\n",
              "      <td>996</td>\n",
              "    </tr>\n",
              "    <tr>\n",
              "      <th>997</th>\n",
              "      <td>-0.170996</td>\n",
              "      <td>0.098450</td>\n",
              "      <td>-0.079166</td>\n",
              "      <td>-0.544898</td>\n",
              "      <td>0.131416</td>\n",
              "      <td>997</td>\n",
              "    </tr>\n",
              "    <tr>\n",
              "      <th>998</th>\n",
              "      <td>0.420543</td>\n",
              "      <td>0.080840</td>\n",
              "      <td>0.188535</td>\n",
              "      <td>-0.075852</td>\n",
              "      <td>0.038052</td>\n",
              "      <td>998</td>\n",
              "    </tr>\n",
              "    <tr>\n",
              "      <th>999</th>\n",
              "      <td>-0.507278</td>\n",
              "      <td>-0.100655</td>\n",
              "      <td>-0.164537</td>\n",
              "      <td>0.233692</td>\n",
              "      <td>-0.028502</td>\n",
              "      <td>999</td>\n",
              "    </tr>\n",
              "  </tbody>\n",
              "</table>\n",
              "<p>1000 rows × 6 columns</p>\n",
              "</div>"
            ],
            "text/plain": [
              "            v         x         y         z         w    t\n",
              "0   -0.217397 -0.315381 -0.349981 -0.278588 -0.213351    0\n",
              "1    0.391739  0.279869  0.301570  0.311995  0.135050    1\n",
              "2   -0.406473 -0.499194 -0.480291 -0.500416  0.057622    2\n",
              "3    0.121576  0.122578  0.216820  0.038380  0.028551    3\n",
              "4    0.261821 -0.062158 -0.234476  0.112037 -0.247819    4\n",
              "..        ...       ...       ...       ...       ...  ...\n",
              "995 -0.290144 -0.592212 -0.529248 -0.062725 -0.218547  995\n",
              "996  0.316836 -0.052395  0.165297  0.337382  0.125711  996\n",
              "997 -0.170996  0.098450 -0.079166 -0.544898  0.131416  997\n",
              "998  0.420543  0.080840  0.188535 -0.075852  0.038052  998\n",
              "999 -0.507278 -0.100655 -0.164537  0.233692 -0.028502  999\n",
              "\n",
              "[1000 rows x 6 columns]"
            ]
          },
          "metadata": {
            "tags": []
          },
          "execution_count": 12
        }
      ]
    },
    {
      "cell_type": "code",
      "metadata": {
        "id": "BmHaQBu9QR6O"
      },
      "source": [
        "features = df.columns.tolist()\n",
        "df = preprocess_df(df, features)"
      ],
      "execution_count": 13,
      "outputs": []
    },
    {
      "cell_type": "code",
      "metadata": {
        "id": "ooO7yvtwYNa2"
      },
      "source": [
        "features.remove('t')"
      ],
      "execution_count": 14,
      "outputs": []
    },
    {
      "cell_type": "code",
      "metadata": {
        "colab": {
          "base_uri": "https://localhost:8080/"
        },
        "id": "nO8FUsUUQeoP",
        "outputId": "5dbafcfe-bc19-4716-de24-9fdf14c64209"
      },
      "source": [
        "path_length = 10\n",
        "n_shuffles = 1000 \n",
        "\n",
        "ssad, shuff_sig_df, agg_shuffles = shuffled_signed_area_test(df, path_length, features, n_shuffles, plot_figures=True)"
      ],
      "execution_count": null,
      "outputs": [
        {
          "output_type": "stream",
          "text": [
            " 47% (475 of 1000) |#########            | Elapsed Time: 0:07:29 ETA:   0:08:40"
          ],
          "name": "stderr"
        }
      ]
    },
    {
      "cell_type": "code",
      "metadata": {
        "id": "iAlL2g5zQgfn"
      },
      "source": [
        "ssad"
      ],
      "execution_count": null,
      "outputs": []
    },
    {
      "cell_type": "code",
      "metadata": {
        "id": "MfI-MfeTJXNB"
      },
      "source": [
        "shuff_sig_df"
      ],
      "execution_count": null,
      "outputs": []
    },
    {
      "cell_type": "code",
      "metadata": {
        "id": "hLV5JUWpJYtY"
      },
      "source": [
        ""
      ],
      "execution_count": null,
      "outputs": []
    }
  ]
}